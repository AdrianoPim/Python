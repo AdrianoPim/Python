{
 "cells": [
  {
   "cell_type": "code",
   "execution_count": 2,
   "metadata": {},
   "outputs": [
    {
     "name": "stdout",
     "output_type": "stream",
     "text": [
      "Através dos segundos, vamos descobrir as horas minutos e segundos\n",
      "22 : 13 : 20\n"
     ]
    }
   ],
   "source": [
    "# segundos em hora formatada\n",
    "print('Através dos segundos, vamos descobrir as horas minutos e segundos')\n",
    "segundos = int(input('Informe os segundos')) #80000 =>>> 22 : 13 : 20\n",
    "hora = segundos // 3600\n",
    "minuto = segundos % 3600 // 60\n",
    "segundo =  segundos % 3600 % 60\n",
    "\n",
    "if hora < 10:\n",
    "    hora = '0' + str(hora)\n",
    "else:\n",
    "    hora = str(hora)\n",
    "\n",
    "if minuto < 10:\n",
    "    minuto = '0' + str(minuto)\n",
    "else:\n",
    "    minuto = str(minuto)\n",
    "\n",
    "if segundo < 10:\n",
    "    segundo = '0' + str(segundo)\n",
    "else:\n",
    "    segundo = str(segundo)\n",
    "print(hora , ':' , minuto , ':' , segundo)"
   ]
  }
 ],
 "metadata": {
  "kernelspec": {
   "display_name": "Python 3",
   "language": "python",
   "name": "python3"
  },
  "language_info": {
   "codemirror_mode": {
    "name": "ipython",
    "version": 3
   },
   "file_extension": ".py",
   "mimetype": "text/x-python",
   "name": "python",
   "nbconvert_exporter": "python",
   "pygments_lexer": "ipython3",
   "version": "3.12.1"
  }
 },
 "nbformat": 4,
 "nbformat_minor": 2
}
