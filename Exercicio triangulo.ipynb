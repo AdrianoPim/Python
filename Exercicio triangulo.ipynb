{
 "cells": [
  {
   "cell_type": "code",
   "execution_count": 1,
   "metadata": {},
   "outputs": [
    {
     "name": "stdout",
     "output_type": "stream",
     "text": [
      "Vamos Calcular a Area do Triangulo\n",
      "A área do triangulo é:  10.0\n"
     ]
    }
   ],
   "source": [
    "# Calculando a área de um triangulo reto\n",
    "print('Vamos Calcular a Area do Triangulo')\n",
    "base = float(input('Informe a base: '))\n",
    "Altura = float(input('Informe a Altura: '))\n",
    "area = base * Altura / 2\n",
    "print('A área do triangulo é: ', area)"
   ]
  }
 ],
 "metadata": {
  "kernelspec": {
   "display_name": "Python 3",
   "language": "python",
   "name": "python3"
  },
  "language_info": {
   "codemirror_mode": {
    "name": "ipython",
    "version": 3
   },
   "file_extension": ".py",
   "mimetype": "text/x-python",
   "name": "python",
   "nbconvert_exporter": "python",
   "pygments_lexer": "ipython3",
   "version": "3.12.1"
  }
 },
 "nbformat": 4,
 "nbformat_minor": 2
}
